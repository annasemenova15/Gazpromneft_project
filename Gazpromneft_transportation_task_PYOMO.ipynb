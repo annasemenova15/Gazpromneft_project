{
 "cells": [
  {
   "cell_type": "code",
   "execution_count": 1,
   "id": "70695374",
   "metadata": {},
   "outputs": [
    {
     "name": "stdout",
     "output_type": "stream",
     "text": [
      "Requirement already satisfied: pyomo in /opt/conda/lib/python3.9/site-packages (6.5.0)\n",
      "Requirement already satisfied: ply in /opt/conda/lib/python3.9/site-packages (from pyomo) (3.11)\n",
      "\n",
      "\u001b[1m[\u001b[0m\u001b[34;49mnotice\u001b[0m\u001b[1;39;49m]\u001b[0m\u001b[39;49m A new release of pip available: \u001b[0m\u001b[31;49m22.3.1\u001b[0m\u001b[39;49m -> \u001b[0m\u001b[32;49m23.0.1\u001b[0m\n",
      "\u001b[1m[\u001b[0m\u001b[34;49mnotice\u001b[0m\u001b[1;39;49m]\u001b[0m\u001b[39;49m To update, run: \u001b[0m\u001b[32;49mpip install --upgrade pip\u001b[0m\n"
     ]
    }
   ],
   "source": [
    "!pip install pyomo"
   ]
  },
  {
   "cell_type": "code",
   "execution_count": 2,
   "id": "3375cdf9",
   "metadata": {},
   "outputs": [
    {
     "name": "stdout",
     "output_type": "stream",
     "text": [
      "Requirement already satisfied: openpyxl in /opt/conda/lib/python3.9/site-packages (3.1.2)\n",
      "Requirement already satisfied: et-xmlfile in /opt/conda/lib/python3.9/site-packages (from openpyxl) (1.1.0)\n",
      "\n",
      "\u001b[1m[\u001b[0m\u001b[34;49mnotice\u001b[0m\u001b[1;39;49m]\u001b[0m\u001b[39;49m A new release of pip available: \u001b[0m\u001b[31;49m22.3.1\u001b[0m\u001b[39;49m -> \u001b[0m\u001b[32;49m23.0.1\u001b[0m\n",
      "\u001b[1m[\u001b[0m\u001b[34;49mnotice\u001b[0m\u001b[1;39;49m]\u001b[0m\u001b[39;49m To update, run: \u001b[0m\u001b[32;49mpip install --upgrade pip\u001b[0m\n"
     ]
    }
   ],
   "source": [
    "!pip install openpyxl\n"
   ]
  },
  {
   "cell_type": "code",
   "execution_count": 3,
   "id": "19a7141f",
   "metadata": {},
   "outputs": [],
   "source": [
    "# Install the needed libraries\n",
    "import pandas as pd\n",
    "import numpy as np\n",
    "import time\n",
    "import warnings\n",
    "from pandas.core.common import SettingWithCopyWarning\n",
    "from pyomo.environ import *"
   ]
  },
  {
   "cell_type": "code",
   "execution_count": 4,
   "id": "2ad28358",
   "metadata": {},
   "outputs": [],
   "source": [
    "# Ignore SettingWithCopyWarning \n",
    "warnings.simplefilter(action='ignore', category=SettingWithCopyWarning)"
   ]
  },
  {
   "cell_type": "code",
   "execution_count": 5,
   "id": "676b339e",
   "metadata": {},
   "outputs": [],
   "source": [
    "# Import the data\n",
    "data = pd.read_excel('data_python_modified.xlsx', sheet_name='data', index_col=0)\n",
    "real = pd.read_excel('data_python_modified.xlsx', sheet_name='реал', index_col=0)\n",
    "bandwidth = pd.read_excel('data_python_modified.xlsx', sheet_name='ПС', index_col=0)\n",
    "match = pd.read_excel('data_python_modified.xlsx', sheet_name='match', index_col=0)"
   ]
  },
  {
   "cell_type": "code",
   "execution_count": 6,
   "id": "fe87b29b",
   "metadata": {},
   "outputs": [],
   "source": [
    "# Create a dict of names on a spreadsheets that we are going to use\n",
    "names = {\"Тариф ж/д\" : \"t1\",\n",
    "        \"Тариф хранение\" : \"t2\",\n",
    "        \"Тариф бренд\" : \"t3\",\n",
    "        \"Тариф ВЛ\" : \"t4\",\n",
    "        \"Плечо, км\" : \"distance\",\n",
    "        \"Дата\" : \"date\",\n",
    "        \"НБ\" : \"origin\",\n",
    "        \"ОУ\" : \"point\",\n",
    "        \"НГ\" : \"brand\",\n",
    "        \"НГ_ПС\" : \"product\",\n",
    "        \"Объем\" : \"volume\"} "
   ]
  },
  {
   "cell_type": "code",
   "execution_count": 7,
   "id": "2eca7dea",
   "metadata": {},
   "outputs": [],
   "source": [
    "# Rename the names in dataframes\n",
    "data.rename(columns=names, inplace=True)\n",
    "real.rename(columns=names, inplace=True)\n",
    "bandwidth.rename(columns=names, inplace=True)\n",
    "match.rename(columns=names, inplace=True)"
   ]
  },
  {
   "cell_type": "code",
   "execution_count": 8,
   "id": "99bace36",
   "metadata": {},
   "outputs": [],
   "source": [
    "# Function for calculating the tarif\n",
    "def calculate_tarif(row):\n",
    "    if row[\"distance\"] <= 50:\n",
    "        return row[\"t1\"] + row[\"t2\"] + row[\"t3\"] + row[\"t4\"]\n",
    "    else:\n",
    "        return row[\"t1\"] + row[\"t2\"] + row[\"t3\"] +  row[\"t4\"] * row[\"distance\"]"
   ]
  },
  {
   "cell_type": "code",
   "execution_count": 9,
   "id": "af9f4eea",
   "metadata": {},
   "outputs": [],
   "source": [
    "# Calculate cost\n",
    "data['cost'] = data.apply(lambda row: calculate_tarif(row), axis=1)"
   ]
  },
  {
   "cell_type": "code",
   "execution_count": 10,
   "id": "bf7130b1",
   "metadata": {},
   "outputs": [
    {
     "data": {
      "text/html": [
       "<div>\n",
       "<style scoped>\n",
       "    .dataframe tbody tr th:only-of-type {\n",
       "        vertical-align: middle;\n",
       "    }\n",
       "\n",
       "    .dataframe tbody tr th {\n",
       "        vertical-align: top;\n",
       "    }\n",
       "\n",
       "    .dataframe thead th {\n",
       "        text-align: right;\n",
       "    }\n",
       "</style>\n",
       "<table border=\"1\" class=\"dataframe\">\n",
       "  <thead>\n",
       "    <tr style=\"text-align: right;\">\n",
       "      <th></th>\n",
       "      <th>date</th>\n",
       "    </tr>\n",
       "  </thead>\n",
       "  <tbody>\n",
       "    <tr>\n",
       "      <th>0</th>\n",
       "      <td>2023-04-01</td>\n",
       "    </tr>\n",
       "    <tr>\n",
       "      <th>1</th>\n",
       "      <td>2023-03-01</td>\n",
       "    </tr>\n",
       "  </tbody>\n",
       "</table>\n",
       "</div>"
      ],
      "text/plain": [
       "        date\n",
       "0 2023-04-01\n",
       "1 2023-03-01"
      ]
     },
     "execution_count": 10,
     "metadata": {},
     "output_type": "execute_result"
    }
   ],
   "source": [
    "# Checking dates\n",
    "dates = pd.DataFrame({\"date\" : data['date'].unique()})\n",
    "dates"
   ]
  },
  {
   "cell_type": "code",
   "execution_count": 11,
   "id": "7c673cbf",
   "metadata": {},
   "outputs": [],
   "source": [
    "# Save the first date to the t \n",
    "t = dates.iloc[0, 0]"
   ]
  },
  {
   "cell_type": "code",
   "execution_count": 12,
   "id": "48ab7aff",
   "metadata": {},
   "outputs": [],
   "source": [
    "# Subset for the time period\n",
    "data = data[data['date'] == t]\n",
    "real = real[real['date'] == t]\n",
    "bandwidth = bandwidth[bandwidth['date'] == t]\n",
    "    \n",
    "# Adjust datatypes\n",
    "data['origin'] = data['origin'].map(lambda x: int(x.strip('Нефтебаза ')))\n",
    "data['point'] = data['point'].map(lambda x: int(x.strip('АЗС ')))\n",
    "real['point'] = real['point'].map(lambda x: int(x.strip('АЗС ')))\n",
    "bandwidth['origin'] = bandwidth['origin'].map(lambda x: int(x.strip('Нефтебаза ')))"
   ]
  },
  {
   "cell_type": "code",
   "execution_count": 13,
   "id": "535f603f",
   "metadata": {},
   "outputs": [],
   "source": [
    "# Create some dictionaries for later usage\n",
    "match_brand_product = dict(zip(match['brand'], match['product']))\n",
    "match_brand_number = dict(enumerate(match['brand']))\n",
    "match_product_number = dict(enumerate(match['product']))\n",
    "\n",
    "match_product_brand = dict()\n",
    "for key, value in match_brand_product.items():\n",
    "    match_product_brand.setdefault(value, list()).append(key)\n",
    "    \n",
    "match_number_brand = dict()\n",
    "for key, value in match_brand_number.items():\n",
    "    match_number_brand[value] = key\n",
    "    \n",
    "match_number_product = dict()\n",
    "for key, value in match_product_number.items():\n",
    "    match_number_product[value] = key"
   ]
  },
  {
   "cell_type": "code",
   "execution_count": 14,
   "id": "0790b7d6",
   "metadata": {},
   "outputs": [],
   "source": [
    "# Store origin with infinite supply in a separate list\n",
    "origins_with_inf_supply = list(bandwidth[bandwidth['volume'] == np.inf]['origin'].unique())"
   ]
  },
  {
   "cell_type": "code",
   "execution_count": 15,
   "id": "b779753c",
   "metadata": {},
   "outputs": [],
   "source": [
    "# Function for calculating the tarif\n",
    "def create_var_Name(row):\n",
    "    return 'P' + str(int(row[\"point\"])) + 'O' + str(int(row[\"origin\"])) +  '_brand_' + str(int(row[\"brand_number\"]))"
   ]
  },
  {
   "cell_type": "code",
   "execution_count": 16,
   "id": "fc1a7864",
   "metadata": {},
   "outputs": [],
   "source": [
    "# Reorganize the data\n",
    "columns_to_keep = ['origin', 'point', 'brand', 'product', 'cost']\n",
    "\n",
    "df = data[columns_to_keep].reset_index().drop('index', axis=1).reset_index()\n",
    "\n",
    "# Code brand, product\n",
    "df['brand_number'] = df['brand'].map(lambda x: match_number_brand.get(x))\n",
    "df['product_number'] = df['product'].map(lambda x: match_number_product.get(x))\n",
    "\n",
    "# Create a name variable\n",
    "df['var_Name'] = df.apply(lambda row: create_var_Name(row), axis=1) "
   ]
  },
  {
   "cell_type": "code",
   "execution_count": 17,
   "id": "bc2b22f3",
   "metadata": {},
   "outputs": [],
   "source": [
    "# Create demand df\n",
    "demand = real[['point', 'brand', 'product', 'volume']]\n",
    "demand.rename(columns={'volume':'demand'}, inplace=True)\n",
    "demand['brand_number'] = demand['brand'].map(lambda x: match_number_brand.get(x))\n",
    "demand['product_number'] = demand['product'].map(lambda x: match_number_product.get(x))"
   ]
  },
  {
   "cell_type": "code",
   "execution_count": 18,
   "id": "84a2bb66",
   "metadata": {},
   "outputs": [],
   "source": [
    "# Create supply df\n",
    "supply = bandwidth[['origin', 'product', 'volume']]\n",
    "supply.rename(columns={'volume':'supply'}, inplace=True)\n",
    "supply['product_number'] = supply['product'].map(lambda x: match_number_product.get(x))"
   ]
  },
  {
   "cell_type": "code",
   "execution_count": 19,
   "id": "2de469be",
   "metadata": {},
   "outputs": [
    {
     "data": {
      "text/html": [
       "<div>\n",
       "<style scoped>\n",
       "    .dataframe tbody tr th:only-of-type {\n",
       "        vertical-align: middle;\n",
       "    }\n",
       "\n",
       "    .dataframe tbody tr th {\n",
       "        vertical-align: top;\n",
       "    }\n",
       "\n",
       "    .dataframe thead th {\n",
       "        text-align: right;\n",
       "    }\n",
       "</style>\n",
       "<table border=\"1\" class=\"dataframe\">\n",
       "  <thead>\n",
       "    <tr style=\"text-align: right;\">\n",
       "      <th></th>\n",
       "      <th>index</th>\n",
       "      <th>origin</th>\n",
       "      <th>point</th>\n",
       "      <th>brand</th>\n",
       "      <th>product</th>\n",
       "      <th>cost</th>\n",
       "      <th>brand_number</th>\n",
       "      <th>product_number</th>\n",
       "      <th>var_Name</th>\n",
       "    </tr>\n",
       "  </thead>\n",
       "  <tbody>\n",
       "    <tr>\n",
       "      <th>0</th>\n",
       "      <td>0</td>\n",
       "      <td>0</td>\n",
       "      <td>0</td>\n",
       "      <td>Бензин 100 бренд</td>\n",
       "      <td>АИ 100</td>\n",
       "      <td>3268.488947</td>\n",
       "      <td>0</td>\n",
       "      <td>0</td>\n",
       "      <td>P0O0_brand_0</td>\n",
       "    </tr>\n",
       "    <tr>\n",
       "      <th>1</th>\n",
       "      <td>1</td>\n",
       "      <td>0</td>\n",
       "      <td>0</td>\n",
       "      <td>Бензин 92</td>\n",
       "      <td>Аи 92</td>\n",
       "      <td>3268.488947</td>\n",
       "      <td>1</td>\n",
       "      <td>1</td>\n",
       "      <td>P0O0_brand_1</td>\n",
       "    </tr>\n",
       "    <tr>\n",
       "      <th>2</th>\n",
       "      <td>2</td>\n",
       "      <td>0</td>\n",
       "      <td>0</td>\n",
       "      <td>Бензин 95</td>\n",
       "      <td>Аи 95</td>\n",
       "      <td>3268.488947</td>\n",
       "      <td>2</td>\n",
       "      <td>3</td>\n",
       "      <td>P0O0_brand_2</td>\n",
       "    </tr>\n",
       "    <tr>\n",
       "      <th>3</th>\n",
       "      <td>3</td>\n",
       "      <td>0</td>\n",
       "      <td>0</td>\n",
       "      <td>Бензин 95 бренд</td>\n",
       "      <td>Аи 95</td>\n",
       "      <td>3338.651597</td>\n",
       "      <td>3</td>\n",
       "      <td>3</td>\n",
       "      <td>P0O0_brand_3</td>\n",
       "    </tr>\n",
       "    <tr>\n",
       "      <th>4</th>\n",
       "      <td>4</td>\n",
       "      <td>0</td>\n",
       "      <td>0</td>\n",
       "      <td>Топливо дизельное с присадками летнее</td>\n",
       "      <td>ДТ</td>\n",
       "      <td>3133.526439</td>\n",
       "      <td>4</td>\n",
       "      <td>4</td>\n",
       "      <td>P0O0_brand_4</td>\n",
       "    </tr>\n",
       "    <tr>\n",
       "      <th>...</th>\n",
       "      <td>...</td>\n",
       "      <td>...</td>\n",
       "      <td>...</td>\n",
       "      <td>...</td>\n",
       "      <td>...</td>\n",
       "      <td>...</td>\n",
       "      <td>...</td>\n",
       "      <td>...</td>\n",
       "      <td>...</td>\n",
       "    </tr>\n",
       "    <tr>\n",
       "      <th>355</th>\n",
       "      <td>355</td>\n",
       "      <td>1</td>\n",
       "      <td>47</td>\n",
       "      <td>Топливо дизельное с присадками летнее</td>\n",
       "      <td>ДТ</td>\n",
       "      <td>4734.995826</td>\n",
       "      <td>4</td>\n",
       "      <td>4</td>\n",
       "      <td>P47O1_brand_4</td>\n",
       "    </tr>\n",
       "    <tr>\n",
       "      <th>356</th>\n",
       "      <td>356</td>\n",
       "      <td>1</td>\n",
       "      <td>48</td>\n",
       "      <td>Бензин 92</td>\n",
       "      <td>Аи 92</td>\n",
       "      <td>4808.465100</td>\n",
       "      <td>1</td>\n",
       "      <td>1</td>\n",
       "      <td>P48O1_brand_1</td>\n",
       "    </tr>\n",
       "    <tr>\n",
       "      <th>357</th>\n",
       "      <td>357</td>\n",
       "      <td>1</td>\n",
       "      <td>48</td>\n",
       "      <td>Бензин 95</td>\n",
       "      <td>Аи 95</td>\n",
       "      <td>4808.465100</td>\n",
       "      <td>2</td>\n",
       "      <td>3</td>\n",
       "      <td>P48O1_brand_2</td>\n",
       "    </tr>\n",
       "    <tr>\n",
       "      <th>358</th>\n",
       "      <td>358</td>\n",
       "      <td>1</td>\n",
       "      <td>48</td>\n",
       "      <td>Бензин 95 бренд</td>\n",
       "      <td>Аи 95</td>\n",
       "      <td>4854.005100</td>\n",
       "      <td>3</td>\n",
       "      <td>3</td>\n",
       "      <td>P48O1_brand_3</td>\n",
       "    </tr>\n",
       "    <tr>\n",
       "      <th>359</th>\n",
       "      <td>359</td>\n",
       "      <td>1</td>\n",
       "      <td>48</td>\n",
       "      <td>Топливо дизельное с присадками летнее</td>\n",
       "      <td>ДТ</td>\n",
       "      <td>4734.995826</td>\n",
       "      <td>4</td>\n",
       "      <td>4</td>\n",
       "      <td>P48O1_brand_4</td>\n",
       "    </tr>\n",
       "  </tbody>\n",
       "</table>\n",
       "<p>360 rows × 9 columns</p>\n",
       "</div>"
      ],
      "text/plain": [
       "     index  origin  point                                  brand product  \\\n",
       "0        0       0      0                       Бензин 100 бренд  АИ 100   \n",
       "1        1       0      0                              Бензин 92   Аи 92   \n",
       "2        2       0      0                              Бензин 95   Аи 95   \n",
       "3        3       0      0                        Бензин 95 бренд   Аи 95   \n",
       "4        4       0      0  Топливо дизельное с присадками летнее      ДТ   \n",
       "..     ...     ...    ...                                    ...     ...   \n",
       "355    355       1     47  Топливо дизельное с присадками летнее      ДТ   \n",
       "356    356       1     48                              Бензин 92   Аи 92   \n",
       "357    357       1     48                              Бензин 95   Аи 95   \n",
       "358    358       1     48                        Бензин 95 бренд   Аи 95   \n",
       "359    359       1     48  Топливо дизельное с присадками летнее      ДТ   \n",
       "\n",
       "            cost  brand_number  product_number       var_Name  \n",
       "0    3268.488947             0               0   P0O0_brand_0  \n",
       "1    3268.488947             1               1   P0O0_brand_1  \n",
       "2    3268.488947             2               3   P0O0_brand_2  \n",
       "3    3338.651597             3               3   P0O0_brand_3  \n",
       "4    3133.526439             4               4   P0O0_brand_4  \n",
       "..           ...           ...             ...            ...  \n",
       "355  4734.995826             4               4  P47O1_brand_4  \n",
       "356  4808.465100             1               1  P48O1_brand_1  \n",
       "357  4808.465100             2               3  P48O1_brand_2  \n",
       "358  4854.005100             3               3  P48O1_brand_3  \n",
       "359  4734.995826             4               4  P48O1_brand_4  \n",
       "\n",
       "[360 rows x 9 columns]"
      ]
     },
     "execution_count": 19,
     "metadata": {},
     "output_type": "execute_result"
    }
   ],
   "source": [
    "df"
   ]
  },
  {
   "cell_type": "code",
   "execution_count": 20,
   "id": "da33e2d7",
   "metadata": {},
   "outputs": [],
   "source": [
    "#conda install -c conda-forge pyomo coincbc"
   ]
  },
  {
   "cell_type": "markdown",
   "id": "1725aeac",
   "metadata": {},
   "source": [
    "# Pyomo"
   ]
  },
  {
   "cell_type": "code",
   "execution_count": 21,
   "id": "3ffc0c2f",
   "metadata": {},
   "outputs": [],
   "source": [
    "model = ConcreteModel()"
   ]
  },
  {
   "cell_type": "code",
   "execution_count": 22,
   "id": "0d11cb5a",
   "metadata": {},
   "outputs": [],
   "source": [
    "# задаем переменные, в данном случае они все непрерывные\n",
    "model.x = Var(range(len(df)), domain=Reals, bounds=(0.0,None))\n",
    "#within=NonNegativeReals"
   ]
  },
  {
   "cell_type": "code",
   "execution_count": 23,
   "id": "042b73e1",
   "metadata": {},
   "outputs": [],
   "source": [
    "c = np.array(df['cost'])"
   ]
  },
  {
   "cell_type": "code",
   "execution_count": 24,
   "id": "de888312",
   "metadata": {},
   "outputs": [],
   "source": [
    "# объявление целевой функции и передача в модель\n",
    "obj_expr = sum(c[i] * model.x[i] for i in model.x)\n"
   ]
  },
  {
   "cell_type": "code",
   "execution_count": 25,
   "id": "25bf6044",
   "metadata": {},
   "outputs": [
    {
     "data": {
      "text/plain": [
       "<pyomo.core.expr.numeric_expr.SumExpression at 0x7fa5b87d3fc0>"
      ]
     },
     "execution_count": 25,
     "metadata": {},
     "output_type": "execute_result"
    }
   ],
   "source": [
    "obj_expr "
   ]
  },
  {
   "cell_type": "markdown",
   "id": "09b83a54",
   "metadata": {},
   "source": [
    "#### Define restriction #1: demand equals const"
   ]
  },
  {
   "cell_type": "code",
   "execution_count": 26,
   "id": "f1d7a98c",
   "metadata": {},
   "outputs": [],
   "source": [
    "model.constraints = ConstraintList()"
   ]
  },
  {
   "cell_type": "code",
   "execution_count": 27,
   "id": "1157f293",
   "metadata": {},
   "outputs": [],
   "source": [
    "n_constraint = 1\n",
    "brands = df['brand_number'].unique()"
   ]
  },
  {
   "cell_type": "code",
   "execution_count": 28,
   "id": "6c045acf",
   "metadata": {},
   "outputs": [],
   "source": [
    "for b in brands:\n",
    "    df1 = df[df['brand_number'] == b]\n",
    "    points = df1['point'].unique()\n",
    "    \n",
    "    for p in points:\n",
    "        df2 = df1[df1['point'] == p]\n",
    "        const = float(demand[(demand['point'] == p) & (demand['brand_number'] == b)]['demand'])\n",
    "        # Add a restriction on demand == const\n",
    "        # problem+= pulp.LpAffineExpression([(x[i], 1) for i in df2.index ]) == const, str(n_constraint)\n",
    "        #constraints.append(cp.sum(x[df2.index]) == const)\n",
    "        #expr = sum(model.x[df2.index])\n",
    "        expr = sum(model.x[i] for i in df2.index)\n",
    "        model.constraints.add(expr == const)\n",
    "        n_constraint +=1"
   ]
  },
  {
   "cell_type": "code",
   "execution_count": 29,
   "id": "8752d54a",
   "metadata": {},
   "outputs": [],
   "source": [
    "#model.constraints.add( expr >= 1 )"
   ]
  },
  {
   "cell_type": "markdown",
   "id": "83561da8",
   "metadata": {},
   "source": [
    "#### Define restriction #2: supply less or equal than const;  restriction #4: supply greater or equal to const * percent_loading"
   ]
  },
  {
   "cell_type": "code",
   "execution_count": 30,
   "id": "11fbedb5",
   "metadata": {},
   "outputs": [],
   "source": [
    "# Define percents of loading demanded by management\n",
    "percents_loading = np.arange(0.5, 1, 0.1)\n",
    "percent_loading = percents_loading[0]"
   ]
  },
  {
   "cell_type": "code",
   "execution_count": 31,
   "id": "34a587dc",
   "metadata": {},
   "outputs": [],
   "source": [
    "# Function for dividing supply between different brands\n",
    "def merge_supply(brand_number, match_brand_product, match_brand_number, match_product_brand, match_number_brand):\n",
    "    \"\"\"This function returns a set of brands' numbers that are produced from the same product\"\"\"\n",
    "    brand_name = match_brand_number[brand_number]\n",
    "    product_name = match_brand_product[brand_name]\n",
    "    brands_overlap_names = match_product_brand[product_name]\n",
    "    brands_overlap_numbers = set(match_number_brand.get(item) for item in brands_overlap_names)\n",
    "\n",
    "    return brands_overlap_numbers"
   ]
  },
  {
   "cell_type": "code",
   "execution_count": 32,
   "id": "84f959b1",
   "metadata": {},
   "outputs": [],
   "source": [
    "# Set for storing already processed brands \n",
    "brands_accounted_for = set()"
   ]
  },
  {
   "cell_type": "code",
   "execution_count": 33,
   "id": "d393b4e8",
   "metadata": {},
   "outputs": [],
   "source": [
    "for b in brands:\n",
    "    \n",
    "    if b in brands_accounted_for:\n",
    "        continue\n",
    "    else:\n",
    "        brands_overlap_numbers = merge_supply(b, match_brand_product, match_brand_number, match_product_brand, match_number_brand)\n",
    "        brands_accounted_for.update(brands_overlap_numbers)\n",
    "        \n",
    "        df1 = df[df['brand_number'].isin(brands_overlap_numbers)]\n",
    "        origins = df1['origin'].unique()\n",
    "        \n",
    "        for o in origins:\n",
    "            \n",
    "            if o in origins_with_inf_supply:\n",
    "                continue\n",
    "            else:\n",
    "                \n",
    "                df2 = df1[df1['origin'] == o]\n",
    "                product_name = match_brand_product[match_brand_number[b]]\n",
    "                const = float(supply[(supply['origin'] == o) & (supply['product'] == product_name)]['supply'])\n",
    "                \n",
    "                # Add a restriction on supply <= upper_const\n",
    "                model.constraints.add(sum(model.x[i] for i in df2.index) <= const)\n",
    "                #constraints.append(cp.sum(x[df2.index]) <= const)\n",
    "                n_constraint +=1\n",
    "\n",
    "                # Add a restriction on supply >= lower_const\n",
    "                const *= percent_loading\n",
    "                #constraints.append(cp.sum(x[df2.index]) >= const)\n",
    "                model.constraints.add(sum(model.x[i] for i in df2.index) >= const)\n",
    "                n_constraint +=1        "
   ]
  },
  {
   "cell_type": "markdown",
   "id": "0d9c5cbc",
   "metadata": {},
   "source": [
    "#### Define restriction #3: all brands for one point should come from the same origin"
   ]
  },
  {
   "cell_type": "code",
   "execution_count": 34,
   "id": "d166d11a",
   "metadata": {},
   "outputs": [],
   "source": [
    "M = 10**9"
   ]
  },
  {
   "cell_type": "code",
   "execution_count": 35,
   "id": "66cd5043",
   "metadata": {},
   "outputs": [],
   "source": [
    "# Function for creating dummies names\n",
    "def create_dummy_Name(row):\n",
    "    return 'y_P' + str(int(row[\"point\"])) + 'O' + str(int(row[\"origin\"])), int(row[\"point\"]), int(row[\"origin\"])"
   ]
  },
  {
   "cell_type": "code",
   "execution_count": 36,
   "id": "18bb09c7",
   "metadata": {},
   "outputs": [],
   "source": [
    "# Create a name variable\n",
    "[*o] = df.apply(lambda row: create_dummy_Name(row), axis=1)"
   ]
  },
  {
   "cell_type": "code",
   "execution_count": 37,
   "id": "9c284a9b",
   "metadata": {},
   "outputs": [],
   "source": [
    "df_dummies = pd.DataFrame(o, columns=['dummy_Name', 'point', 'origin'])"
   ]
  },
  {
   "cell_type": "code",
   "execution_count": 38,
   "id": "ee9b2264",
   "metadata": {},
   "outputs": [],
   "source": [
    "df_dummies = df_dummies.reset_index()"
   ]
  },
  {
   "cell_type": "code",
   "execution_count": 39,
   "id": "3214a330",
   "metadata": {},
   "outputs": [
    {
     "data": {
      "text/html": [
       "<div>\n",
       "<style scoped>\n",
       "    .dataframe tbody tr th:only-of-type {\n",
       "        vertical-align: middle;\n",
       "    }\n",
       "\n",
       "    .dataframe tbody tr th {\n",
       "        vertical-align: top;\n",
       "    }\n",
       "\n",
       "    .dataframe thead th {\n",
       "        text-align: right;\n",
       "    }\n",
       "</style>\n",
       "<table border=\"1\" class=\"dataframe\">\n",
       "  <thead>\n",
       "    <tr style=\"text-align: right;\">\n",
       "      <th></th>\n",
       "      <th>index</th>\n",
       "      <th>dummy_Name</th>\n",
       "      <th>point</th>\n",
       "      <th>origin</th>\n",
       "    </tr>\n",
       "  </thead>\n",
       "  <tbody>\n",
       "    <tr>\n",
       "      <th>0</th>\n",
       "      <td>0</td>\n",
       "      <td>y_P0O0</td>\n",
       "      <td>0</td>\n",
       "      <td>0</td>\n",
       "    </tr>\n",
       "    <tr>\n",
       "      <th>1</th>\n",
       "      <td>1</td>\n",
       "      <td>y_P0O0</td>\n",
       "      <td>0</td>\n",
       "      <td>0</td>\n",
       "    </tr>\n",
       "    <tr>\n",
       "      <th>2</th>\n",
       "      <td>2</td>\n",
       "      <td>y_P0O0</td>\n",
       "      <td>0</td>\n",
       "      <td>0</td>\n",
       "    </tr>\n",
       "    <tr>\n",
       "      <th>3</th>\n",
       "      <td>3</td>\n",
       "      <td>y_P0O0</td>\n",
       "      <td>0</td>\n",
       "      <td>0</td>\n",
       "    </tr>\n",
       "    <tr>\n",
       "      <th>4</th>\n",
       "      <td>4</td>\n",
       "      <td>y_P0O0</td>\n",
       "      <td>0</td>\n",
       "      <td>0</td>\n",
       "    </tr>\n",
       "    <tr>\n",
       "      <th>...</th>\n",
       "      <td>...</td>\n",
       "      <td>...</td>\n",
       "      <td>...</td>\n",
       "      <td>...</td>\n",
       "    </tr>\n",
       "    <tr>\n",
       "      <th>355</th>\n",
       "      <td>355</td>\n",
       "      <td>y_P47O1</td>\n",
       "      <td>47</td>\n",
       "      <td>1</td>\n",
       "    </tr>\n",
       "    <tr>\n",
       "      <th>356</th>\n",
       "      <td>356</td>\n",
       "      <td>y_P48O1</td>\n",
       "      <td>48</td>\n",
       "      <td>1</td>\n",
       "    </tr>\n",
       "    <tr>\n",
       "      <th>357</th>\n",
       "      <td>357</td>\n",
       "      <td>y_P48O1</td>\n",
       "      <td>48</td>\n",
       "      <td>1</td>\n",
       "    </tr>\n",
       "    <tr>\n",
       "      <th>358</th>\n",
       "      <td>358</td>\n",
       "      <td>y_P48O1</td>\n",
       "      <td>48</td>\n",
       "      <td>1</td>\n",
       "    </tr>\n",
       "    <tr>\n",
       "      <th>359</th>\n",
       "      <td>359</td>\n",
       "      <td>y_P48O1</td>\n",
       "      <td>48</td>\n",
       "      <td>1</td>\n",
       "    </tr>\n",
       "  </tbody>\n",
       "</table>\n",
       "<p>360 rows × 4 columns</p>\n",
       "</div>"
      ],
      "text/plain": [
       "     index dummy_Name  point  origin\n",
       "0        0     y_P0O0      0       0\n",
       "1        1     y_P0O0      0       0\n",
       "2        2     y_P0O0      0       0\n",
       "3        3     y_P0O0      0       0\n",
       "4        4     y_P0O0      0       0\n",
       "..     ...        ...    ...     ...\n",
       "355    355    y_P47O1     47       1\n",
       "356    356    y_P48O1     48       1\n",
       "357    357    y_P48O1     48       1\n",
       "358    358    y_P48O1     48       1\n",
       "359    359    y_P48O1     48       1\n",
       "\n",
       "[360 rows x 4 columns]"
      ]
     },
     "execution_count": 39,
     "metadata": {},
     "output_type": "execute_result"
    }
   ],
   "source": [
    "df_dummies"
   ]
  },
  {
   "cell_type": "code",
   "execution_count": 40,
   "id": "72df683f",
   "metadata": {},
   "outputs": [],
   "source": [
    "df_dummies = df_dummies.drop_duplicates(subset=['dummy_Name', 'point', 'origin'])"
   ]
  },
  {
   "cell_type": "code",
   "execution_count": 41,
   "id": "442d32e6",
   "metadata": {},
   "outputs": [
    {
     "data": {
      "text/html": [
       "<div>\n",
       "<style scoped>\n",
       "    .dataframe tbody tr th:only-of-type {\n",
       "        vertical-align: middle;\n",
       "    }\n",
       "\n",
       "    .dataframe tbody tr th {\n",
       "        vertical-align: top;\n",
       "    }\n",
       "\n",
       "    .dataframe thead th {\n",
       "        text-align: right;\n",
       "    }\n",
       "</style>\n",
       "<table border=\"1\" class=\"dataframe\">\n",
       "  <thead>\n",
       "    <tr style=\"text-align: right;\">\n",
       "      <th></th>\n",
       "      <th>index</th>\n",
       "      <th>dummy_Name</th>\n",
       "      <th>point</th>\n",
       "      <th>origin</th>\n",
       "    </tr>\n",
       "  </thead>\n",
       "  <tbody>\n",
       "    <tr>\n",
       "      <th>0</th>\n",
       "      <td>0</td>\n",
       "      <td>y_P0O0</td>\n",
       "      <td>0</td>\n",
       "      <td>0</td>\n",
       "    </tr>\n",
       "    <tr>\n",
       "      <th>5</th>\n",
       "      <td>5</td>\n",
       "      <td>y_P1O0</td>\n",
       "      <td>1</td>\n",
       "      <td>0</td>\n",
       "    </tr>\n",
       "    <tr>\n",
       "      <th>10</th>\n",
       "      <td>10</td>\n",
       "      <td>y_P2O0</td>\n",
       "      <td>2</td>\n",
       "      <td>0</td>\n",
       "    </tr>\n",
       "    <tr>\n",
       "      <th>14</th>\n",
       "      <td>14</td>\n",
       "      <td>y_P3O0</td>\n",
       "      <td>3</td>\n",
       "      <td>0</td>\n",
       "    </tr>\n",
       "    <tr>\n",
       "      <th>18</th>\n",
       "      <td>18</td>\n",
       "      <td>y_P4O0</td>\n",
       "      <td>4</td>\n",
       "      <td>0</td>\n",
       "    </tr>\n",
       "    <tr>\n",
       "      <th>...</th>\n",
       "      <td>...</td>\n",
       "      <td>...</td>\n",
       "      <td>...</td>\n",
       "      <td>...</td>\n",
       "    </tr>\n",
       "    <tr>\n",
       "      <th>341</th>\n",
       "      <td>341</td>\n",
       "      <td>y_P44O1</td>\n",
       "      <td>44</td>\n",
       "      <td>1</td>\n",
       "    </tr>\n",
       "    <tr>\n",
       "      <th>345</th>\n",
       "      <td>345</td>\n",
       "      <td>y_P45O1</td>\n",
       "      <td>45</td>\n",
       "      <td>1</td>\n",
       "    </tr>\n",
       "    <tr>\n",
       "      <th>349</th>\n",
       "      <td>349</td>\n",
       "      <td>y_P46O1</td>\n",
       "      <td>46</td>\n",
       "      <td>1</td>\n",
       "    </tr>\n",
       "    <tr>\n",
       "      <th>352</th>\n",
       "      <td>352</td>\n",
       "      <td>y_P47O1</td>\n",
       "      <td>47</td>\n",
       "      <td>1</td>\n",
       "    </tr>\n",
       "    <tr>\n",
       "      <th>356</th>\n",
       "      <td>356</td>\n",
       "      <td>y_P48O1</td>\n",
       "      <td>48</td>\n",
       "      <td>1</td>\n",
       "    </tr>\n",
       "  </tbody>\n",
       "</table>\n",
       "<p>98 rows × 4 columns</p>\n",
       "</div>"
      ],
      "text/plain": [
       "     index dummy_Name  point  origin\n",
       "0        0     y_P0O0      0       0\n",
       "5        5     y_P1O0      1       0\n",
       "10      10     y_P2O0      2       0\n",
       "14      14     y_P3O0      3       0\n",
       "18      18     y_P4O0      4       0\n",
       "..     ...        ...    ...     ...\n",
       "341    341    y_P44O1     44       1\n",
       "345    345    y_P45O1     45       1\n",
       "349    349    y_P46O1     46       1\n",
       "352    352    y_P47O1     47       1\n",
       "356    356    y_P48O1     48       1\n",
       "\n",
       "[98 rows x 4 columns]"
      ]
     },
     "execution_count": 41,
     "metadata": {},
     "output_type": "execute_result"
    }
   ],
   "source": [
    "df_dummies"
   ]
  },
  {
   "cell_type": "code",
   "execution_count": 42,
   "id": "df929db7",
   "metadata": {},
   "outputs": [],
   "source": [
    "#### Creating our cvxpy variable of assignments\n",
    "#dummies = cp.Variable(len(df_dummies), boolean=True)\n",
    "model.dummies = Var(range(len(df_dummies)), domain=Integers, bounds=(0.0, 1.0))"
   ]
  },
  {
   "cell_type": "code",
   "execution_count": 43,
   "id": "367bce70",
   "metadata": {},
   "outputs": [
    {
     "data": {
      "text/plain": [
       "<pyomo.core.base.var.IndexedVar at 0x7fa50d728760>"
      ]
     },
     "execution_count": 43,
     "metadata": {},
     "output_type": "execute_result"
    }
   ],
   "source": [
    "model.dummies"
   ]
  },
  {
   "cell_type": "code",
   "execution_count": 44,
   "id": "3e1ff75e",
   "metadata": {},
   "outputs": [],
   "source": [
    "df_dummies.reset_index(inplace=True)"
   ]
  },
  {
   "cell_type": "code",
   "execution_count": 45,
   "id": "96a69397",
   "metadata": {},
   "outputs": [],
   "source": [
    "df_dummies.drop(columns=['index', 'level_0'], inplace=True)"
   ]
  },
  {
   "cell_type": "code",
   "execution_count": 46,
   "id": "134094b5",
   "metadata": {},
   "outputs": [
    {
     "data": {
      "text/html": [
       "<div>\n",
       "<style scoped>\n",
       "    .dataframe tbody tr th:only-of-type {\n",
       "        vertical-align: middle;\n",
       "    }\n",
       "\n",
       "    .dataframe tbody tr th {\n",
       "        vertical-align: top;\n",
       "    }\n",
       "\n",
       "    .dataframe thead th {\n",
       "        text-align: right;\n",
       "    }\n",
       "</style>\n",
       "<table border=\"1\" class=\"dataframe\">\n",
       "  <thead>\n",
       "    <tr style=\"text-align: right;\">\n",
       "      <th></th>\n",
       "      <th>dummy_Name</th>\n",
       "      <th>point</th>\n",
       "      <th>origin</th>\n",
       "    </tr>\n",
       "  </thead>\n",
       "  <tbody>\n",
       "    <tr>\n",
       "      <th>0</th>\n",
       "      <td>y_P0O0</td>\n",
       "      <td>0</td>\n",
       "      <td>0</td>\n",
       "    </tr>\n",
       "    <tr>\n",
       "      <th>1</th>\n",
       "      <td>y_P1O0</td>\n",
       "      <td>1</td>\n",
       "      <td>0</td>\n",
       "    </tr>\n",
       "    <tr>\n",
       "      <th>2</th>\n",
       "      <td>y_P2O0</td>\n",
       "      <td>2</td>\n",
       "      <td>0</td>\n",
       "    </tr>\n",
       "    <tr>\n",
       "      <th>3</th>\n",
       "      <td>y_P3O0</td>\n",
       "      <td>3</td>\n",
       "      <td>0</td>\n",
       "    </tr>\n",
       "    <tr>\n",
       "      <th>4</th>\n",
       "      <td>y_P4O0</td>\n",
       "      <td>4</td>\n",
       "      <td>0</td>\n",
       "    </tr>\n",
       "    <tr>\n",
       "      <th>...</th>\n",
       "      <td>...</td>\n",
       "      <td>...</td>\n",
       "      <td>...</td>\n",
       "    </tr>\n",
       "    <tr>\n",
       "      <th>93</th>\n",
       "      <td>y_P44O1</td>\n",
       "      <td>44</td>\n",
       "      <td>1</td>\n",
       "    </tr>\n",
       "    <tr>\n",
       "      <th>94</th>\n",
       "      <td>y_P45O1</td>\n",
       "      <td>45</td>\n",
       "      <td>1</td>\n",
       "    </tr>\n",
       "    <tr>\n",
       "      <th>95</th>\n",
       "      <td>y_P46O1</td>\n",
       "      <td>46</td>\n",
       "      <td>1</td>\n",
       "    </tr>\n",
       "    <tr>\n",
       "      <th>96</th>\n",
       "      <td>y_P47O1</td>\n",
       "      <td>47</td>\n",
       "      <td>1</td>\n",
       "    </tr>\n",
       "    <tr>\n",
       "      <th>97</th>\n",
       "      <td>y_P48O1</td>\n",
       "      <td>48</td>\n",
       "      <td>1</td>\n",
       "    </tr>\n",
       "  </tbody>\n",
       "</table>\n",
       "<p>98 rows × 3 columns</p>\n",
       "</div>"
      ],
      "text/plain": [
       "   dummy_Name  point  origin\n",
       "0      y_P0O0      0       0\n",
       "1      y_P1O0      1       0\n",
       "2      y_P2O0      2       0\n",
       "3      y_P3O0      3       0\n",
       "4      y_P4O0      4       0\n",
       "..        ...    ...     ...\n",
       "93    y_P44O1     44       1\n",
       "94    y_P45O1     45       1\n",
       "95    y_P46O1     46       1\n",
       "96    y_P47O1     47       1\n",
       "97    y_P48O1     48       1\n",
       "\n",
       "[98 rows x 3 columns]"
      ]
     },
     "execution_count": 46,
     "metadata": {},
     "output_type": "execute_result"
    }
   ],
   "source": [
    "df_dummies"
   ]
  },
  {
   "cell_type": "code",
   "execution_count": 47,
   "id": "98539f31",
   "metadata": {},
   "outputs": [],
   "source": [
    "points = df['point'].unique()\n",
    "origins = df['origin'].unique()\n",
    "\n",
    "for p in points:\n",
    "    for o in origins:\n",
    "        df1 = df[(df['point'] == p) & (df['origin'] == o)]\n",
    "        \n",
    "        \n",
    "        df_d = df_dummies[(df_dummies['point'] == p) & (df_dummies['origin'] == o)]\n",
    "        \n",
    "        #constraints.append(cp.sum(x[df1.index]) <= M * dummies[df_d.index])\n",
    "        for j in df_d.index:\n",
    "            m = model.dummies[j] \n",
    "            model.constraints.add(sum(model.x[i] for i in df1.index) <= M  * m )\n",
    "        n_constraint += 1"
   ]
  },
  {
   "cell_type": "code",
   "execution_count": 48,
   "id": "f0172793",
   "metadata": {},
   "outputs": [
    {
     "data": {
      "text/plain": [
       "287"
      ]
     },
     "execution_count": 48,
     "metadata": {},
     "output_type": "execute_result"
    }
   ],
   "source": [
    "n_constraint"
   ]
  },
  {
   "cell_type": "code",
   "execution_count": 49,
   "id": "deaf4db7",
   "metadata": {},
   "outputs": [],
   "source": [
    "const = 1"
   ]
  },
  {
   "cell_type": "code",
   "execution_count": 50,
   "id": "dda91efe",
   "metadata": {},
   "outputs": [],
   "source": [
    "for p in points:\n",
    "    \n",
    "    df_d = df_dummies[df_dummies['point'] == p]\n",
    "\n",
    "    #constraints.append(cp.sum(dummies[df_d.index]) == const)\n",
    "    model.constraints.add(sum(model.dummies[i] for i in df_d.index) == const)\n",
    "    n_constraint += 1"
   ]
  },
  {
   "cell_type": "code",
   "execution_count": 51,
   "id": "a5970622",
   "metadata": {},
   "outputs": [],
   "source": [
    "model.objective = Objective(expr=obj_expr, sense=minimize)"
   ]
  },
  {
   "cell_type": "code",
   "execution_count": 52,
   "id": "1afb9739",
   "metadata": {},
   "outputs": [],
   "source": [
    "#!pyomo help --solvers"
   ]
  },
  {
   "cell_type": "code",
   "execution_count": 53,
   "id": "8568f771",
   "metadata": {},
   "outputs": [
    {
     "name": "stdout",
     "output_type": "stream",
     "text": [
      "Решение cbc: [0.0, 0.0, 0.0, 0.0, 0.0, 23.718, 240.303, 231.371, 49.888, 54.458, 0.0, 0.0, 0.0, 0.0, 69.617, 156.741, 246.201, 78.749, 17.18, 199.029, 154.649, 39.69, 204.282, 0.0, 0.0, 0.0, 0.0, 33.145, 286.426, 277.954, 53.752, 19.221, 208.336, 174.274, 48.919, 139.34, 0.0, 0.0, 0.0, 0.0, 42.385, 268.45, 276.059, 67.783, 108.141, 18.717, 182.128, 175.193, 40.864, 110.715, 29.952, 241.909, 246.868, 54.434, 46.747, 150.437, 68.077, 38.306, 190.244, 98.428, 8.061, 144.6, 92.44, 19.916, 215.386, 0.0, 0.0, 0.0, 0.0, 0.0, 0.0, 0.0, 0.0, 0.0, 8.213, 104.475, 90.55, 25.909, 658.264, 4.738, 185.14, 108.562, 19.583, 52.247, 15.237, 155.832, 174.709, 47.087, 366.786, 7.962, 147.817, 116.408, 27.221, 393.64, 14.28, 113.705, 116.141, 32.012, 488.357, 0.0, 0.0, 134.086, 105.576, 154.898, 0.0, 0.0, 0.0, 8.316, 78.056, 72.369, 20.35, 510.134, 165.674, 106.905, 247.038, 10.245, 42.924, 0.0, 26.563, 43.263, 0.0, 105.739, 62.543, 124.484, 106.664, 49.957, 73.167, 0.0, 0.0, 0.0, 0.0, 0.0, 0.0, 0.0, 190.766, 169.107, 56.905, 71.761, 118.413, 81.53, 39.41, 38.99, 182.84, 113.08, 39.647, 122.763, 115.445, 68.017, 29.278, 66.826, 163.325, 143.083, 53.294, 52.474, 0.0, 0.0, 0.0, 0.0, 0.0, 0.0, 0.0, 0.0, 0.0, 0.0, 0.0, 0.0, 0.0, 0.0, 0.0, 0.0, 0.0, 0.0, 324.138, 336.772, 78.59, 81.843, 185.075, 179.196, 94.048, 72.787, 29.694, 304.571, 281.706, 65.739, 71.356, 0.0, 0.0, 0.0, 0.0, 0.0, 193.426, 146.474, 25.691, 41.129, 0.0, 0.0, 0.0, 0.0, 0.0, 0.0, 0.0, 0.0, 0.0, 124.559, 42.552, 114.84, 93.879, 0.0, 0.0, 0.0, 0.0, 0.0, 0.0, 0.0, 0.0, 0.0, 150.266, 89.104, 18.775, 111.807, 0.0, 0.0, 0.0, 0.0, 0.0, 0.0, 0.0, 0.0, 0.0, 0.0, 0.0, 0.0, 0.0, 0.0, 0.0, 0.0, 0.0, 0.0, 0.0, 0.0, 0.0, 0.0, 0.0, 0.0, 0.0, 264.06, 197.535, 39.878, 151.593, 13.679, 144.274, 133.619, 37.775, 835.493, 0.0, 0.0, 0.0, 0.0, 0.0, 0.0, 0.0, 0.0, 0.0, 0.0, 0.0, 0.0, 0.0, 0.0, 0.0, 0.0, 0.0, 0.0, 0.0, 0.0, 0.0, 0.0, 0.0, 0.0, 0.0, 202.298, 230.754, 0.0, 0.0, 0.0, 161.869, 86.394, 28.862, 0.0, 0.0, 0.0, 0.0, 0.0, 0.0, 0.0, 0.0, 0.0, 0.0, 54.068, 0.0, 0.0, 42.95, 0.0, 0.0, 0.0, 0.0, 0.0, 0.0, 112.583, 81.808, 42.577, 33.676, 243.168, 177.071, 63.924, 0.0, 0.0, 0.0, 0.0, 0.0, 0.0, 0.0, 0.0, 0.0, 0.0, 0.0, 0.0, 0.0, 0.0, 0.0, 0.0, 0.0, 0.0, 0.0, 0.0, 101.703, 72.172, 15.893, 164.546, 133.083, 41.799, 42.139, 159.659, 114.978, 43.288, 29.02, 202.499, 204.637, 68.715, 35.922, 139.047, 156.618, 88.042, 0.0, 0.0, 0.0, 0.0, 0.0, 0.0, 0.0, 0.0] optimal\n",
      "Выручка: 84451667.0\n",
      "Время :\n",
      "0.6708049774169922\n"
     ]
    }
   ],
   "source": [
    "# solve with cbc\n",
    "start = time.time()\n",
    "opt = SolverFactory('cbc')\n",
    "res = opt.solve(model)\n",
    "x_opt = [round(model.x[i].value, 3) for i in model.x]\n",
    "print(f\"Решение cbc: {list(x_opt)} {res.solver.termination_condition}\")\n",
    "print(f\"Выручка: {round(model.objective(), 0)}\")\n",
    "stop = time.time()\n",
    "print (\"Время :\")\n",
    "print(stop - start)"
   ]
  },
  {
   "cell_type": "code",
   "execution_count": 54,
   "id": "769f83d4",
   "metadata": {},
   "outputs": [
    {
     "name": "stdout",
     "output_type": "stream",
     "text": [
      "Решение cbc: [0.0, 1.0, 0.0, 1.0, 1.0, 0.0, 0.0, 1.0, 1.0, 0.0, 1.0, 1.0, 1.0, 1.0, 1.0, 1.0, 0.0, 0.0, 1.0, 1.0, 1.0, 1.0, 1.0, 0.0, 1.0, 0.0, 1.0, 1.0, 1.0, 0.0, 1.0, 1.0, 0.0, 1.0, 1.0, 0.0, 0.0, 1.0, 1.0, 1.0, 1.0, 1.0, 0.0, 0.0, 0.0, 0.0, 0.0, 1.0, 1.0, 1.0, 0.0, 1.0, 0.0, 0.0, 1.0, 1.0, 0.0, 0.0, 1.0, 0.0, 0.0, 0.0, 0.0, 0.0, 0.0, 1.0, 1.0, 0.0, 0.0, 0.0, 0.0, 0.0, 1.0, 0.0, 1.0, 0.0, 0.0, 0.0, 1.0, 0.0, 0.0, 1.0, 0.0, 0.0, 1.0, 1.0, 0.0, 0.0, 0.0, 0.0, 0.0, 1.0, 1.0, 1.0, 1.0, 1.0, 0.0, 0.0] optimal\n"
     ]
    }
   ],
   "source": [
    "y_opt = [round(model.dummies[i].value, 3) for i in model.dummies]\n",
    "print(f\"Решение cbc: {list(y_opt)} {res.solver.termination_condition}\")"
   ]
  },
  {
   "cell_type": "code",
   "execution_count": null,
   "id": "2a16e005",
   "metadata": {},
   "outputs": [],
   "source": []
  },
  {
   "cell_type": "code",
   "execution_count": null,
   "id": "7c5f64b1",
   "metadata": {},
   "outputs": [],
   "source": []
  }
 ],
 "metadata": {
  "kernelspec": {
   "display_name": "Python 3 (ipykernel)",
   "language": "python",
   "name": "python3"
  },
  "language_info": {
   "codemirror_mode": {
    "name": "ipython",
    "version": 3
   },
   "file_extension": ".py",
   "mimetype": "text/x-python",
   "name": "python",
   "nbconvert_exporter": "python",
   "pygments_lexer": "ipython3",
   "version": "3.9.6"
  }
 },
 "nbformat": 4,
 "nbformat_minor": 5
}
