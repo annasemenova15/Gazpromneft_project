{
 "cells": [
  {
   "cell_type": "code",
   "execution_count": 2,
   "id": "a23f202a",
   "metadata": {},
   "outputs": [
    {
     "name": "stdout",
     "output_type": "stream",
     "text": [
      "Collecting pyomo\n",
      "  Using cached Pyomo-6.5.0-cp39-cp39-manylinux_2_17_x86_64.manylinux2014_x86_64.whl (11.0 MB)\n",
      "Collecting ply\n",
      "  Using cached ply-3.11-py2.py3-none-any.whl (49 kB)\n",
      "Installing collected packages: ply, pyomo\n",
      "Successfully installed ply-3.11 pyomo-6.5.0\n",
      "\n",
      "\u001b[1m[\u001b[0m\u001b[34;49mnotice\u001b[0m\u001b[1;39;49m]\u001b[0m\u001b[39;49m A new release of pip available: \u001b[0m\u001b[31;49m22.3.1\u001b[0m\u001b[39;49m -> \u001b[0m\u001b[32;49m23.1.1\u001b[0m\n",
      "\u001b[1m[\u001b[0m\u001b[34;49mnotice\u001b[0m\u001b[1;39;49m]\u001b[0m\u001b[39;49m To update, run: \u001b[0m\u001b[32;49mpip install --upgrade pip\u001b[0m\n",
      "Collecting openpyxl\n",
      "  Using cached openpyxl-3.1.2-py2.py3-none-any.whl (249 kB)\n",
      "Collecting et-xmlfile\n",
      "  Using cached et_xmlfile-1.1.0-py3-none-any.whl (4.7 kB)\n",
      "Installing collected packages: et-xmlfile, openpyxl\n",
      "Successfully installed et-xmlfile-1.1.0 openpyxl-3.1.2\n",
      "\n",
      "\u001b[1m[\u001b[0m\u001b[34;49mnotice\u001b[0m\u001b[1;39;49m]\u001b[0m\u001b[39;49m A new release of pip available: \u001b[0m\u001b[31;49m22.3.1\u001b[0m\u001b[39;49m -> \u001b[0m\u001b[32;49m23.1.1\u001b[0m\n",
      "\u001b[1m[\u001b[0m\u001b[34;49mnotice\u001b[0m\u001b[1;39;49m]\u001b[0m\u001b[39;49m To update, run: \u001b[0m\u001b[32;49mpip install --upgrade pip\u001b[0m\n"
     ]
    }
   ],
   "source": [
    "!pip install pyomo\n",
    "!pip install openpyxl"
   ]
  },
  {
   "cell_type": "code",
   "execution_count": 3,
   "id": "19a7141f",
   "metadata": {},
   "outputs": [],
   "source": [
    "# Install the needed libraries\n",
    "import pandas as pd\n",
    "import numpy as np\n",
    "import time\n",
    "import warnings\n",
    "from pandas.core.common import SettingWithCopyWarning\n",
    "import yaml\n",
    "from pyomo.environ import *\n",
    "from datetime import datetime"
   ]
  },
  {
   "cell_type": "code",
   "execution_count": 4,
   "id": "2ad28358",
   "metadata": {},
   "outputs": [],
   "source": [
    "# Ignore SettingWithCopyWarning \n",
    "warnings.simplefilter(action='ignore', category=SettingWithCopyWarning)"
   ]
  },
  {
   "cell_type": "code",
   "execution_count": 5,
   "id": "c8b99ecb",
   "metadata": {},
   "outputs": [],
   "source": [
    "def load_config():\n",
    "    try:\n",
    "        with open('config_file.yaml') as f:\n",
    "            global constants\n",
    "            constants = yaml.safe_load(f)\n",
    "    except OSError as e:\n",
    "        raise e\n",
    "    except Exception as e:\n",
    "        raise e"
   ]
  },
  {
   "cell_type": "code",
   "execution_count": 6,
   "id": "238e8186",
   "metadata": {},
   "outputs": [],
   "source": [
    "load_config()"
   ]
  },
  {
   "cell_type": "code",
   "execution_count": 7,
   "id": "1272c6a9",
   "metadata": {},
   "outputs": [],
   "source": [
    "data = pd.read_excel(constants['INPUT_FILE_NAME'], sheet_name='data', index_col=0)\n",
    "real = pd.read_excel(constants['INPUT_FILE_NAME'], sheet_name='реал', index_col=0)\n",
    "bandwidth = pd.read_excel(constants['INPUT_FILE_NAME'], sheet_name='ПС', index_col=0)\n",
    "match = pd.read_excel(constants['INPUT_FILE_NAME'], sheet_name='match', index_col=0)"
   ]
  },
  {
   "cell_type": "code",
   "execution_count": 8,
   "id": "fe87b29b",
   "metadata": {},
   "outputs": [],
   "source": [
    "# Create a dict of names on a spreadsheets that we are going to use\n",
    "names = {\"Тариф ж/д\" : \"t1\",\n",
    "        \"Тариф хранение\" : \"t2\",\n",
    "        \"Тариф бренд\" : \"t3\",\n",
    "        \"Тариф ВЛ\" : \"t4\",\n",
    "        \"Плечо, км\" : \"distance\",\n",
    "        \"Дата\" : \"date\",\n",
    "        \"НБ\" : \"origin\",\n",
    "        \"ОУ\" : \"point\",\n",
    "        \"НГ\" : \"brand\",\n",
    "        \"НГ_ПС\" : \"product\",\n",
    "        \"Объем\" : \"volume\"} "
   ]
  },
  {
   "cell_type": "code",
   "execution_count": 9,
   "id": "2eca7dea",
   "metadata": {},
   "outputs": [],
   "source": [
    "# Rename the names in dataframes\n",
    "def rename_columns(df_list, names):\n",
    "    for df in df_list:\n",
    "        df.rename(columns=names, inplace=True)\n",
    "\n",
    "# Add the column with the tariff\n",
    "def add_tariff(df):\n",
    "    df['cost'] = df['t1'] + df['t2'] + df['t3'] + df['t4']\n",
    "    df.loc[df['distance'] > 50, 'cost'] = df[\"t1\"] + df[\"t2\"] + df[\"t3\"] +  df[\"t4\"] * df[\"distance\"]\n",
    "\n",
    "# Make subset for the concrete time period\n",
    "def select_time_period(df):\n",
    "    df_subset = df[df['date'] == datetime.strptime(constants['MONTH'], '%Y-%m-%d')]\n",
    "    return df_subset\n",
    "\n",
    "# Adjust datatypes\n",
    "def adjust_datatypes(df_list):\n",
    "    for df in df_list:\n",
    "        if 'origin' in df.columns:\n",
    "            df['origin'] = df['origin'].map(lambda x: int(x.strip('Нефтебаза ')))\n",
    "        if 'point' in df.columns:\n",
    "            df['point'] = df['point'].map(lambda x: int(x.strip('АЗС ')))"
   ]
  },
  {
   "cell_type": "code",
   "execution_count": 10,
   "id": "99bace36",
   "metadata": {},
   "outputs": [],
   "source": [
    "# Apply changes to dataframes\n",
    "def apply_changes_dfs(data, real, bandwidth, match, names):\n",
    "    rename_columns([data, real, bandwidth, match], names)\n",
    "    add_tariff(data)\n",
    "    \n",
    "    data_subset = select_time_period(data)\n",
    "    real_subset = select_time_period(real)\n",
    "    bandwidth_subset = select_time_period(bandwidth)\n",
    "\n",
    "    adjust_datatypes([data_subset,real_subset, bandwidth_subset])\n",
    "    \n",
    "    return data_subset, real_subset, bandwidth_subset"
   ]
  },
  {
   "cell_type": "code",
   "execution_count": 11,
   "id": "50bd659a",
   "metadata": {},
   "outputs": [],
   "source": [
    "data_subset, real_subset, bandwidth_subset = apply_changes_dfs(data, real, bandwidth, match, names)"
   ]
  },
  {
   "cell_type": "code",
   "execution_count": 12,
   "id": "da33e2d7",
   "metadata": {},
   "outputs": [
    {
     "name": "stdout",
     "output_type": "stream",
     "text": [
      "Collecting package metadata (current_repodata.json): done\n",
      "Solving environment: done\n",
      "\n",
      "\n",
      "==> WARNING: A newer version of conda exists. <==\n",
      "  current version: 4.10.3\n",
      "  latest version: 23.3.1\n",
      "\n",
      "Please update conda by running\n",
      "\n",
      "    $ conda update -n base conda\n",
      "\n",
      "\n",
      "\n",
      "## Package Plan ##\n",
      "\n",
      "  environment location: /opt/conda\n",
      "\n",
      "  added / updated specs:\n",
      "    - coincbc\n",
      "    - pyomo\n",
      "\n",
      "\n",
      "The following packages will be downloaded:\n",
      "\n",
      "    package                    |            build\n",
      "    ---------------------------|-----------------\n",
      "    ca-certificates-2022.12.7  |       ha878542_0         143 KB  conda-forge\n",
      "    certifi-2022.12.7          |     pyhd8ed1ab_0         147 KB  conda-forge\n",
      "    coincbc-2.10.5             |       hcee13e7_1         8.0 MB  conda-forge\n",
      "    libgcc-ng-12.2.0           |      h65d4601_19         931 KB  conda-forge\n",
      "    libstdcxx-ng-12.2.0        |      h46fd767_19         4.3 MB  conda-forge\n",
      "    openssl-1.1.1t             |       h0b41bf4_0         1.9 MB  conda-forge\n",
      "    ply-3.11                   |             py_1          44 KB  conda-forge\n",
      "    pyomo-6.5.0                |   py39h227be39_0         5.4 MB  conda-forge\n",
      "    ------------------------------------------------------------\n",
      "                                           Total:        20.8 MB\n",
      "\n",
      "The following NEW packages will be INSTALLED:\n",
      "\n",
      "  coincbc            conda-forge/linux-64::coincbc-2.10.5-hcee13e7_1\n",
      "  ply                conda-forge/noarch::ply-3.11-py_1\n",
      "  pyomo              conda-forge/linux-64::pyomo-6.5.0-py39h227be39_0\n",
      "\n",
      "The following packages will be REMOVED:\n",
      "\n",
      "  libgomp-11.2.0-h1d223b6_8\n",
      "\n",
      "The following packages will be UPDATED:\n",
      "\n",
      "  ca-certificates                      2021.5.30-ha878542_0 --> 2022.12.7-ha878542_0\n",
      "  certifi            conda-forge/linux-64::certifi-2021.5.~ --> conda-forge/noarch::certifi-2022.12.7-pyhd8ed1ab_0\n",
      "  libgcc-ng                               11.2.0-h1d223b6_8 --> 12.2.0-h65d4601_19\n",
      "  libstdcxx-ng                            11.2.0-he4da1e4_8 --> 12.2.0-h46fd767_19\n",
      "  openssl                                 1.1.1l-h7f98852_0 --> 1.1.1t-h0b41bf4_0\n",
      "\n",
      "\n",
      "\n",
      "Downloading and Extracting Packages\n",
      "ca-certificates-2022 | 143 KB    | ##################################### | 100% \n",
      "coincbc-2.10.5       | 8.0 MB    | ##################################### | 100% \n",
      "openssl-1.1.1t       | 1.9 MB    | ##################################### | 100% \n",
      "certifi-2022.12.7    | 147 KB    | ##################################### | 100% \n",
      "libstdcxx-ng-12.2.0  | 4.3 MB    | ##################################### | 100% \n",
      "ply-3.11             | 44 KB     | ##################################### | 100% \n",
      "libgcc-ng-12.2.0     | 931 KB    | ##################################### | 100% \n",
      "pyomo-6.5.0          | 5.4 MB    | ##################################### | 100% \n",
      "Preparing transaction: done\n",
      "Verifying transaction: done\n",
      "Executing transaction: done\n",
      "\n",
      "Note: you may need to restart the kernel to use updated packages.\n"
     ]
    }
   ],
   "source": [
    "conda install -c conda-forge pyomo coincbc"
   ]
  },
  {
   "cell_type": "code",
   "execution_count": 13,
   "id": "f86705a4",
   "metadata": {},
   "outputs": [],
   "source": [
    "# Create brand-product dict\n",
    "def create_brand_product_dict(df):\n",
    "    match_brand_product = dict(zip(df['brand'], df['product']))\n",
    "    \n",
    "    match_product_brand = dict()\n",
    "    for key, value in match_brand_product.items():\n",
    "        match_product_brand.setdefault(value, list()).append(key)\n",
    "    return match_brand_product, match_product_brand\n",
    "\n",
    "# Create numeration dict and inverted dict\n",
    "def create_numeration_dict(df, parameter):\n",
    "    match_dict = dict(enumerate(df[parameter]))\n",
    "    inv_dict = {v: k for k, v in match_dict.items()}\n",
    "    return match_dict, inv_dict"
   ]
  },
  {
   "cell_type": "code",
   "execution_count": 14,
   "id": "734f9965",
   "metadata": {},
   "outputs": [],
   "source": [
    "# Create 6 dictionaries (brand-product, brand-number, product-number, and inverted)\n",
    "match_brand_product, match_product_brand = create_brand_product_dict(match)\n",
    "match_brand_number, match_number_brand = create_numeration_dict(match,'brand')\n",
    "match_product_number, match_number_product = create_numeration_dict(match,'product')"
   ]
  },
  {
   "cell_type": "code",
   "execution_count": 15,
   "id": "25063419",
   "metadata": {},
   "outputs": [],
   "source": [
    "# Create name of variable\n",
    "def create_var_Name(row):\n",
    "    var_name = 'P' + str(int(row[\"point\"])) + 'O' + str(int(row[\"origin\"])) +  '_brand_' + str(int(row[\"brand_number\"]))\n",
    "    return var_name\n",
    "\n",
    "# Reorganize the data\n",
    "def reorganize_df(df, columns_to_keep, match_number_brand, match_number_product):\n",
    "    df_reorganized = df.reset_index().loc[:, columns_to_keep]\n",
    "    df_reorganized['brand_number'] = df_reorganized['brand'].map(lambda x: match_number_brand.get(x))\n",
    "    df_reorganized['product_number'] = df_reorganized['product'].map(lambda x: match_number_product.get(x))\n",
    "    \n",
    "    return df_reorganized"
   ]
  },
  {
   "cell_type": "code",
   "execution_count": 16,
   "id": "1fcaa7e1",
   "metadata": {},
   "outputs": [],
   "source": [
    "columns_to_keep = ['origin', 'point', 'brand', 'product', 'cost']\n",
    "df_reorganized = reorganize_df(data_subset, columns_to_keep, match_number_brand, match_number_product)\n",
    "\n",
    "# Create a name variable\n",
    "df_reorganized['var_Name'] = df_reorganized.apply(lambda row: create_var_Name(row), axis=1) "
   ]
  },
  {
   "cell_type": "code",
   "execution_count": 17,
   "id": "f5a7466e",
   "metadata": {},
   "outputs": [],
   "source": [
    "# Create demand df\n",
    "def create_demand_supply_dfs(real, bandwidth):\n",
    "    demand = real[['point', 'brand', 'product', 'volume']]\n",
    "    demand.rename(columns={'volume':'demand'}, inplace=True)\n",
    "    demand['brand_number'] = demand['brand'].map(lambda x: match_number_brand.get(x))\n",
    "    demand['product_number'] = demand['product'].map(lambda x: match_number_product.get(x))\n",
    "    \n",
    "    supply = bandwidth[['origin', 'product', 'volume']]\n",
    "    supply.rename(columns={'volume':'supply'}, inplace=True)\n",
    "    supply['product_number'] = supply['product'].map(lambda x: match_number_product.get(x))\n",
    "    \n",
    "    return demand, supply"
   ]
  },
  {
   "cell_type": "code",
   "execution_count": 18,
   "id": "c6bc5b94",
   "metadata": {},
   "outputs": [],
   "source": [
    "demand, supply = create_demand_supply_dfs(real_subset, bandwidth_subset)"
   ]
  },
  {
   "cell_type": "code",
   "execution_count": null,
   "id": "c4a52ed4",
   "metadata": {},
   "outputs": [],
   "source": []
  },
  {
   "cell_type": "markdown",
   "id": "1725aeac",
   "metadata": {},
   "source": [
    "# Pyomo"
   ]
  },
  {
   "cell_type": "code",
   "execution_count": 19,
   "id": "770e9062",
   "metadata": {},
   "outputs": [],
   "source": [
    "brands = df_reorganized['brand_number'].unique()"
   ]
  },
  {
   "cell_type": "code",
   "execution_count": 20,
   "id": "89528ef7",
   "metadata": {},
   "outputs": [],
   "source": [
    "import json\n",
    "\n",
    "df_reorganized\n",
    "\n",
    "brand_info_map = {}\n",
    "\n",
    "def make_brand(brand_id, name):\n",
    "    return {'name': name, 'id': brand_id, 'product_transportations': {}}\n",
    "\n",
    "def make_transportation(origin, point, cost, var_name):\n",
    "    return {'origin': origin, 'point': point, 'cost': cost, 'var_name': var_name}\n",
    "\n",
    "def add_transportation_to_brand(brand, product_id, transportation):\n",
    "    if brand['product_transportations'].get(product_id) == None:\n",
    "        brand['product_transportations'][product_id] = [transportation];\n",
    "        return brand;\n",
    "    \n",
    "    brand['product_transportations'].get(product_id).append(transportation);    \n",
    "\n",
    "    return brand;\n",
    "\n",
    "\n",
    "def append_row_to_map(brand_map, row, index):\n",
    "    brand_id = row['brand_number'];\n",
    "    \n",
    "    if brand_map.get(brand_id) == None:\n",
    "        brand_map[brand_id] = make_brand(brand_id, row['brand']);\n",
    "        \n",
    "    brand_item = brand_map.get(brand_id);\n",
    "    product_id = row['product_number'];\n",
    "    \n",
    "    transportation = make_transportation(row['origin'], row['point'], row['cost'], index);\n",
    "    brand_map[brand_id] = add_transportation_to_brand(brand_item, product_id, transportation)\n",
    "    \n",
    "    return brand_map\n",
    "\n",
    "for i, row in df_reorganized.iterrows():\n",
    "    brand_info_map = append_row_to_map(brand_info_map, row, i);\n",
    "\n",
    "json_formatted_str = json.dumps(brand_info_map, indent=2, ensure_ascii=False)"
   ]
  },
  {
   "cell_type": "code",
   "execution_count": 21,
   "id": "cb6238a4",
   "metadata": {},
   "outputs": [],
   "source": [
    "def define_problem(df):\n",
    "    model = ConcreteModel()\n",
    "    model.x = Var(range(len(df)), domain=Reals, bounds=(0.0,None))\n",
    "    c = np.array(df['cost'])\n",
    "    obj_expr = sum(c[i] * model.x[i] for i in model.x)\n",
    "    \n",
    "    return model, obj_expr, model.x"
   ]
  },
  {
   "cell_type": "code",
   "execution_count": 22,
   "id": "1249dbf7",
   "metadata": {},
   "outputs": [],
   "source": [
    "# Function for dividing supply between different brands\n",
    "def merge_supply(brand_number, match_brand_product, match_brand_number, match_product_brand, match_number_brand):\n",
    "    \"\"\"This function returns a set of brands' numbers that are produced from the same product\"\"\"\n",
    "    brand_name = match_brand_number[brand_number]\n",
    "    product_name = match_brand_product[brand_name]\n",
    "    brands_overlap_names = match_product_brand[product_name]\n",
    "    brands_overlap_numbers = set(match_number_brand.get(item) for item in brands_overlap_names)\n",
    "\n",
    "    return brands_overlap_numbers"
   ]
  },
  {
   "cell_type": "code",
   "execution_count": 23,
   "id": "07a95405",
   "metadata": {},
   "outputs": [],
   "source": [
    "def extract_unique_points_of_brand(brand):\n",
    "    points = []\n",
    "    for product_id in brand.get('product_transportations').keys():\n",
    "        for transportation in brand.get('product_transportations').get(product_id):\n",
    "            points.append(transportation.get('point'))\n",
    "\n",
    "    points = list(set(points))\n",
    "    \n",
    "    return points\n",
    "\n",
    "def extract_unique_origins_of_brand(brand):\n",
    "    origins = []\n",
    "    for transportations in brand.get('product_transportations').values():\n",
    "        for transportation in transportations:\n",
    "            origins.append(transportation.get('origin'))\n",
    "\n",
    "    origins = list(set(origins))\n",
    "    \n",
    "    return origins\n",
    "\n",
    "def get_brand_transportations(brand):\n",
    "    brand_transpotrations = []\n",
    "    for product_id in brand.get('product_transportations').keys():\n",
    "        for transportation in brand.get('product_transportations').get(product_id):\n",
    "            brand_transpotrations.append(transportation)\n",
    "                \n",
    "    return brand_transpotrations\n",
    "\n",
    "def extract_unique_origins(brand_map):\n",
    "    origins = []\n",
    "    for brand in brand_map.values():\n",
    "        origins = origins + extract_unique_origins_of_brand(brand)\n",
    "\n",
    "    return list(set(origins))\n",
    "\n",
    "def extract_unique_points(brand_map):\n",
    "    points = []\n",
    "    for brand in brand_map.values():\n",
    "        points = points + extract_unique_points_of_brand(brand)\n",
    "        \n",
    "    return list(set(points))\n",
    "\n",
    "def get_transportations(brand_map):\n",
    "    transportations = []\n",
    "    \n",
    "    for brand in brand_map.values():\n",
    "        transportations = transportations + get_brand_transportations(brand)\n",
    "        \n",
    "    return transportations"
   ]
  },
  {
   "cell_type": "markdown",
   "id": "09b83a54",
   "metadata": {},
   "source": [
    "#### Define restriction #1: demand equals const"
   ]
  },
  {
   "cell_type": "code",
   "execution_count": 24,
   "id": "aa19466a",
   "metadata": {},
   "outputs": [],
   "source": [
    "def make_restriction_demand(record, model, demand, y, brands):\n",
    "    model.constraints = ConstraintList()\n",
    "    n_constraint = 1\n",
    "    \n",
    "    for brand_id in brands:\n",
    "        brand = record.get(brand_id);\n",
    "        points = extract_unique_points_of_brand(brand)\n",
    "    \n",
    "        for p in points:\n",
    "            transportations = get_brand_transportations(brand)\n",
    "            brand_point_transpotrations = [transportation for transportation in transportations if transportation.get('point') == p]\n",
    "            \n",
    "            const = float(demand[(demand['point'] == p) & (demand['brand_number'] == brand_id)]['demand'])\n",
    "            # Add a restriction on demand == const\n",
    "            expr = sum(y[transportation.get(\"var_name\")] for transportation in brand_point_transpotrations)\n",
    "            model.constraints.add(expr == const)\n",
    "            n_constraint +=1\n",
    "        \n",
    "    return model, n_constraint, model.x"
   ]
  },
  {
   "cell_type": "markdown",
   "id": "83561da8",
   "metadata": {},
   "source": [
    "#### Define restriction #2: supply less or equal than const;  restriction #4: supply greater or equal to const * percent_loading"
   ]
  },
  {
   "cell_type": "code",
   "execution_count": 25,
   "id": "b5b51a5a",
   "metadata": {},
   "outputs": [],
   "source": [
    "def make_restriction_supply(model, record, bandwidth, supply, y, match_brand_product, match_brand_number, match_product_brand, match_number_brand, brands, n_constraint):\n",
    "    # Set for storing already processed brands \n",
    "    brands_accounted_for = set()\n",
    "    \n",
    "    # Store origin with infinite supply in a separate list\n",
    "    origins_with_inf_supply = list(bandwidth[bandwidth['volume'] == np.inf]['origin'].unique())\n",
    "    \n",
    "    for b in brands:\n",
    "        if b in brands_accounted_for:\n",
    "            continue\n",
    "        \n",
    "        brands_overlap_numbers = merge_supply(b, match_brand_product, match_brand_number, match_product_brand, match_number_brand)\n",
    "        brands_accounted_for.update(brands_overlap_numbers)\n",
    "\n",
    "        brands_list = [brand for brand in record.values() if brand.get('id') in brands_overlap_numbers]\n",
    "\n",
    "        origins = []\n",
    "        for brand in brands_list:\n",
    "            origins += extract_unique_origins_of_brand(brand)\n",
    "            \n",
    "        origins = list(set(origins))\n",
    "        \n",
    "        transportations_list = []\n",
    "        for brand in brands_list:\n",
    "            transportations_list += get_brand_transportations(brand)\n",
    "\n",
    "        for o in origins:\n",
    "            if o in origins_with_inf_supply:\n",
    "                continue\n",
    "\n",
    "            origin_transportations = [transportation for transportation in transportations_list if transportation.get('origin') == o]\n",
    "\n",
    "            product_name = match_brand_product[match_brand_number[b]]\n",
    "            const = float(supply[(supply['origin'] == o) & (supply['product'] == product_name)]['supply'])\n",
    "\n",
    "            # Add a restriction on supply <= upper_const\n",
    "            model.constraints.add(sum(y[transportation.get(\"var_name\")] for transportation in origin_transportations) <= const)\n",
    "            n_constraint +=1\n",
    "\n",
    "            # Add a restriction on supply >= lower_const\n",
    "            const *= constants['PERCENT_LOADING']\n",
    "            model.constraints.add(sum(y[transportation.get(\"var_name\")] for transportation in origin_transportations) >= const)\n",
    "            n_constraint +=1 \n",
    "                    \n",
    "    return model, n_constraint, model.x"
   ]
  },
  {
   "cell_type": "markdown",
   "id": "0d9c5cbc",
   "metadata": {},
   "source": [
    "#### Define restriction #3: all brands for one point should come from the same origin"
   ]
  },
  {
   "cell_type": "code",
   "execution_count": 26,
   "id": "58b81ea2",
   "metadata": {},
   "outputs": [],
   "source": [
    "def create_dummy_Name(row):\n",
    "    return 'y_P' + str(int(row[\"point\"])) + 'O' + str(int(row[\"origin\"])), int(row[\"point\"]), int(row[\"origin\"])"
   ]
  },
  {
   "cell_type": "code",
   "execution_count": 27,
   "id": "43b311c6",
   "metadata": {},
   "outputs": [],
   "source": [
    "def make_restriction_dummy(df, model, y):\n",
    "    [*o] = df.apply(lambda row: create_dummy_Name(row), axis=1)\n",
    "    df_dummies = pd.DataFrame(o, columns=['dummy_Name', 'point', 'origin'])\n",
    "    df_dummies = df_dummies.reset_index()\n",
    "    df_dummies = df_dummies.drop_duplicates(subset=['dummy_Name', 'point', 'origin'])\n",
    "    model.dummies = Var(range(len(df_dummies)), domain=Integers, bounds=(0.0, 1.0))\n",
    "    \n",
    "    df_dummies.reset_index(inplace=True)\n",
    "    df_dummies.drop(columns=['index', 'level_0'], inplace=True)\n",
    "    \n",
    "    points = df['point'].unique()\n",
    "    origins = df['origin'].unique()\n",
    "    \n",
    "\n",
    "    for p in points:\n",
    "        for o in origins:\n",
    "            df1 = df[(df['point'] == p) & (df['origin'] == o)]\n",
    "\n",
    "            df_d = df_dummies[(df_dummies['point'] == p) & (df_dummies['origin'] == o)]\n",
    "            \n",
    "            for j in df_d.index:\n",
    "                m = model.dummies[j] \n",
    "                model.constraints.add(sum(y[i] for i in df1.index) <= constants['M']  * m )\n",
    "\n",
    "            \n",
    "    for p in points:\n",
    "    \n",
    "        df_d = df_dummies[df_dummies['point'] == p]\n",
    "\n",
    "        model.constraints.add(sum(model.dummies[i] for i in df_d.index) == 1)\n",
    "\n",
    "        \n",
    "    return model"
   ]
  },
  {
   "cell_type": "code",
   "execution_count": 28,
   "id": "5dd9b4b5",
   "metadata": {},
   "outputs": [],
   "source": [
    "model, obj_expr, model.x = define_problem(df_reorganized)\n",
    "model, n_constraint, model.x = make_restriction_demand(brand_info_map, model, demand, model.x, brands)\n",
    "model, n_constraint, model.x = make_restriction_supply(model, brand_info_map, bandwidth_subset, supply, model.x, match_brand_product, match_brand_number, match_product_brand, match_number_brand, brands, n_constraint)\n",
    "model = make_restriction_dummy(df_reorganized, model, model.x)"
   ]
  },
  {
   "cell_type": "code",
   "execution_count": 29,
   "id": "64297fc6",
   "metadata": {},
   "outputs": [],
   "source": [
    "def main(model):\n",
    "    model.objective = Objective(expr=obj_expr, sense=minimize)\n",
    "    start = time.time()\n",
    "    opt = SolverFactory('cbc')\n",
    "    res = opt.solve(model)\n",
    "    x_opt = [round(model.x[i].value, 3) for i in model.x]\n",
    "    print(f\"Решение cbc: {list(x_opt)} {res.solver.termination_condition}\")\n",
    "    print(f\"Выручка: {round(model.objective(), 0)}\")\n",
    "    stop = time.time()\n",
    "    print (\"Время :\")\n",
    "    print(stop - start)"
   ]
  },
  {
   "cell_type": "code",
   "execution_count": 30,
   "id": "41288492",
   "metadata": {},
   "outputs": [
    {
     "name": "stdout",
     "output_type": "stream",
     "text": [
      "Решение cbc: [0.0, 0.0, 0.0, 0.0, 0.0, 23.718, 240.303, 231.371, 49.888, 54.458, 193.426, 146.474, 25.691, 41.129, 69.617, 156.741, 246.201, 78.749, 17.18, 199.029, 154.649, 39.69, 204.282, 0.0, 0.0, 0.0, 0.0, 33.145, 286.426, 277.954, 53.752, 0.0, 0.0, 0.0, 0.0, 0.0, 0.0, 0.0, 0.0, 0.0, 42.385, 268.45, 276.059, 67.783, 108.141, 0.0, 0.0, 0.0, 0.0, 0.0, 0.0, 0.0, 0.0, 0.0, 0.0, 150.437, 68.077, 38.306, 190.244, 98.428, 0.0, 0.0, 0.0, 0.0, 0.0, 0.0, 0.0, 0.0, 0.0, 0.0, 0.0, 0.0, 0.0, 0.0, 8.213, 104.475, 90.55, 25.909, 658.264, 4.738, 185.14, 108.562, 19.583, 52.247, 15.237, 155.832, 174.709, 47.087, 366.786, 7.962, 147.817, 116.408, 27.221, 393.64, 14.28, 113.705, 116.141, 32.012, 488.357, 0.0, 0.0, 134.086, 105.576, 154.898, 0.0, 0.0, 0.0, 8.316, 78.056, 72.369, 20.35, 510.134, 165.674, 106.905, 247.038, 10.245, 42.924, 54.068, 26.563, 43.263, 42.95, 105.739, 62.543, 124.484, 106.664, 49.957, 73.167, 0.0, 0.0, 0.0, 0.0, 243.168, 177.071, 63.924, 190.766, 169.107, 56.905, 71.761, 118.413, 81.53, 39.41, 38.99, 182.84, 113.08, 39.647, 122.763, 115.445, 68.017, 29.278, 66.826, 163.325, 143.083, 53.294, 52.474, 0.0, 0.0, 15.893, 164.546, 133.083, 41.799, 42.139, 0.0, 0.0, 0.0, 0.0, 0.0, 0.0, 0.0, 0.0, 139.047, 156.618, 88.042, 324.138, 336.772, 78.59, 81.843, 185.075, 179.196, 94.048, 72.787, 29.694, 304.571, 281.706, 65.739, 71.356, 0.0, 0.0, 0.0, 0.0, 0.0, 0.0, 0.0, 0.0, 0.0, 0.0, 0.0, 0.0, 0.0, 0.0, 0.0, 0.0, 0.0, 0.0, 124.559, 42.552, 114.84, 93.879, 0.0, 0.0, 0.0, 0.0, 19.221, 208.336, 174.274, 48.919, 139.34, 150.266, 89.104, 18.775, 111.807, 0.0, 0.0, 0.0, 0.0, 0.0, 18.717, 182.128, 175.193, 40.864, 110.715, 29.952, 241.909, 246.868, 54.434, 46.747, 0.0, 0.0, 0.0, 0.0, 0.0, 8.061, 144.6, 92.44, 19.916, 215.386, 264.06, 197.535, 39.878, 151.593, 13.679, 144.274, 133.619, 37.775, 835.493, 0.0, 0.0, 0.0, 0.0, 0.0, 0.0, 0.0, 0.0, 0.0, 0.0, 0.0, 0.0, 0.0, 0.0, 0.0, 0.0, 0.0, 0.0, 0.0, 0.0, 0.0, 0.0, 0.0, 0.0, 0.0, 202.298, 230.754, 0.0, 0.0, 0.0, 161.869, 86.394, 28.862, 0.0, 0.0, 0.0, 0.0, 0.0, 0.0, 0.0, 0.0, 0.0, 0.0, 0.0, 0.0, 0.0, 0.0, 0.0, 0.0, 0.0, 0.0, 0.0, 0.0, 112.583, 81.808, 42.577, 33.676, 0.0, 0.0, 0.0, 0.0, 0.0, 0.0, 0.0, 0.0, 0.0, 0.0, 0.0, 0.0, 0.0, 0.0, 0.0, 0.0, 0.0, 0.0, 0.0, 0.0, 0.0, 0.0, 0.0, 101.703, 72.172, 0.0, 0.0, 0.0, 0.0, 0.0, 159.659, 114.978, 43.288, 29.02, 202.499, 204.637, 68.715, 35.922, 0.0, 0.0, 0.0, 0.0, 0.0, 0.0, 0.0, 0.0, 0.0, 0.0, 0.0] optimal\n",
      "Выручка: 85109430.0\n",
      "Время :\n",
      "0.6175832748413086\n"
     ]
    }
   ],
   "source": [
    "if __name__ == '__main__':\n",
    "    main(model)"
   ]
  },
  {
   "cell_type": "code",
   "execution_count": null,
   "id": "ab8881e2",
   "metadata": {},
   "outputs": [],
   "source": []
  }
 ],
 "metadata": {
  "kernelspec": {
   "display_name": "Python 3 (ipykernel)",
   "language": "python",
   "name": "python3"
  },
  "language_info": {
   "codemirror_mode": {
    "name": "ipython",
    "version": 3
   },
   "file_extension": ".py",
   "mimetype": "text/x-python",
   "name": "python",
   "nbconvert_exporter": "python",
   "pygments_lexer": "ipython3",
   "version": "3.9.6"
  }
 },
 "nbformat": 4,
 "nbformat_minor": 5
}
